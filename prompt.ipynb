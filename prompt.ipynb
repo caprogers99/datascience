{
 "cells": [
  {
   "cell_type": "markdown",
   "metadata": {
    "id": "CcUT6Fon_qRE"
   },
   "source": [
    "### Required Assignment 5.1: Will the Customer Accept the Coupon?\n",
    "\n",
    "**Context**\n",
    "\n",
    "Imagine driving through town and a coupon is delivered to your cell phone for a restaurant near where you are driving. Would you accept that coupon and take a short detour to the restaurant? Would you accept the coupon but use it on a subsequent trip? Would you ignore the coupon entirely? What if the coupon was for a bar instead of a restaurant? What about a coffee house? Would you accept a bar coupon with a minor passenger in the car? What about if it was just you and your partner in the car? Would weather impact the rate of acceptance? What about the time of day?\n",
    "\n",
    "Obviously, proximity to the business is a factor on whether the coupon is delivered to the driver or not, but what are the factors that determine whether a driver accepts the coupon once it is delivered to them? How would you determine whether a driver is likely to accept a coupon?\n",
    "\n",
    "**Overview**\n",
    "\n",
    "The goal of this project is to use what you know about visualizations and probability distributions to distinguish between customers who accepted a driving coupon versus those that did not.\n",
    "\n",
    "**Data**\n",
    "\n",
    "This data comes to us from the UCI Machine Learning repository and was collected via a survey on Amazon Mechanical Turk. The survey describes different driving scenarios including the destination, current time, weather, passenger, etc., and then ask the person whether he will accept the coupon if he is the driver. Answers that the user will drive there ‘right away’ or ‘later before the coupon expires’ are labeled as ‘Y = 1’ and answers ‘no, I do not want the coupon’ are labeled as ‘Y = 0’.  There are five different types of coupons -- less expensive restaurants (under \\$20), coffee houses, carry out & take away, bar, and more expensive restaurants (\\$20 - $50)."
   ]
  },
  {
   "cell_type": "markdown",
   "metadata": {
    "id": "1wORvMBJ_qRF"
   },
   "source": [
    "**Deliverables**\n",
    "\n",
    "Your final product should be a brief report that highlights the differences between customers who did and did not accept the coupons.  To explore the data you will utilize your knowledge of plotting, statistical summaries, and visualization using Python. You will publish your findings in a public facing github repository as your first portfolio piece.\n",
    "\n",
    "\n",
    "\n"
   ]
  },
  {
   "cell_type": "markdown",
   "metadata": {
    "id": "pG6_Ym6q_qRG"
   },
   "source": [
    "### Data Description\n",
    "Keep in mind that these values mentioned below are average values.\n",
    "\n",
    "The attributes of this data set include:\n",
    "1. User attributes\n",
    "    -  Gender: male, female\n",
    "    -  Age: below 21, 21 to 25, 26 to 30, etc.\n",
    "    -  Marital Status: single, married partner, unmarried partner, or widowed\n",
    "    -  Number of children: 0, 1, or more than 1\n",
    "    -  Education: high school, bachelors degree, associates degree, or graduate degree\n",
    "    -  Occupation: architecture & engineering, business & financial, etc.\n",
    "    -  Annual income: less than \\\\$12500, \\\\$12500 - \\\\$24999, \\\\$25000 - \\\\$37499, etc.\n",
    "    -  Number of times that he/she goes to a bar: 0, less than 1, 1 to 3, 4 to 8 or greater than 8\n",
    "    -  Number of times that he/she buys takeaway food: 0, less than 1, 1 to 3, 4 to 8 or greater\n",
    "    than 8\n",
    "    -  Number of times that he/she goes to a coffee house: 0, less than 1, 1 to 3, 4 to 8 or\n",
    "    greater than 8\n",
    "    -  Number of times that he/she eats at a restaurant with average expense less than \\\\$20 per\n",
    "    person: 0, less than 1, 1 to 3, 4 to 8 or greater than 8\n",
    "    -  Number of times that he/she goes to a bar: 0, less than 1, 1 to 3, 4 to 8 or greater than 8\n",
    "    \n",
    "\n",
    "2. Contextual attributes\n",
    "    - Driving destination: home, work, or no urgent destination\n",
    "    - Location of user, coupon and destination: we provide a map to show the geographical\n",
    "    location of the user, destination, and the venue, and we mark the distance between each\n",
    "    two places with time of driving. The user can see whether the venue is in the same\n",
    "    direction as the destination.\n",
    "    - Weather: sunny, rainy, or snowy\n",
    "    - Temperature: 30F, 55F, or 80F\n",
    "    - Time: 10AM, 2PM, or 6PM\n",
    "    - Passenger: alone, partner, kid(s), or friend(s)\n",
    "\n",
    "\n",
    "3. Coupon attributes\n",
    "    - time before it expires: 2 hours or one day"
   ]
  },
  {
   "cell_type": "code",
   "execution_count": null,
   "metadata": {
    "id": "dzNoP3o__qRG"
   },
   "outputs": [],
   "source": [
    "import matplotlib.pyplot as plt\n",
    "import seaborn as sns\n",
    "import pandas as pd\n",
    "import numpy as np"
   ]
  },
  {
   "cell_type": "markdown",
   "metadata": {
    "id": "Ct8pI1uE_qRG"
   },
   "source": [
    "### Problems\n",
    "\n",
    "Use the prompts below to get started with your data analysis.  \n",
    "\n",
    "1. Read in the `coupons.csv` file.\n",
    "\n",
    "\n"
   ]
  },
  {
   "cell_type": "code",
   "execution_count": null,
   "metadata": {
    "id": "X0vbffYg_qRH"
   },
   "outputs": [],
   "source": [
    "data = pd.read_csv('data/coupons.csv')"
   ]
  },
  {
   "cell_type": "code",
   "execution_count": null,
   "metadata": {
    "id": "TXofQ_DF_qRH",
    "outputId": "2fc96a2c-1112-4b54-f24f-dbb9bc88abfb"
   },
   "outputs": [
    {
     "data": {
      "text/html": [
       "<div>\n",
       "<style scoped>\n",
       "    .dataframe tbody tr th:only-of-type {\n",
       "        vertical-align: middle;\n",
       "    }\n",
       "\n",
       "    .dataframe tbody tr th {\n",
       "        vertical-align: top;\n",
       "    }\n",
       "\n",
       "    .dataframe thead th {\n",
       "        text-align: right;\n",
       "    }\n",
       "</style>\n",
       "<table border=\"1\" class=\"dataframe\">\n",
       "  <thead>\n",
       "    <tr style=\"text-align: right;\">\n",
       "      <th></th>\n",
       "      <th>destination</th>\n",
       "      <th>passanger</th>\n",
       "      <th>weather</th>\n",
       "      <th>temperature</th>\n",
       "      <th>time</th>\n",
       "      <th>coupon</th>\n",
       "      <th>expiration</th>\n",
       "      <th>gender</th>\n",
       "      <th>age</th>\n",
       "      <th>maritalStatus</th>\n",
       "      <th>...</th>\n",
       "      <th>CoffeeHouse</th>\n",
       "      <th>CarryAway</th>\n",
       "      <th>RestaurantLessThan20</th>\n",
       "      <th>Restaurant20To50</th>\n",
       "      <th>toCoupon_GEQ5min</th>\n",
       "      <th>toCoupon_GEQ15min</th>\n",
       "      <th>toCoupon_GEQ25min</th>\n",
       "      <th>direction_same</th>\n",
       "      <th>direction_opp</th>\n",
       "      <th>Y</th>\n",
       "    </tr>\n",
       "  </thead>\n",
       "  <tbody>\n",
       "    <tr>\n",
       "      <th>0</th>\n",
       "      <td>No Urgent Place</td>\n",
       "      <td>Alone</td>\n",
       "      <td>Sunny</td>\n",
       "      <td>55</td>\n",
       "      <td>2PM</td>\n",
       "      <td>Restaurant(&lt;20)</td>\n",
       "      <td>1d</td>\n",
       "      <td>Female</td>\n",
       "      <td>21</td>\n",
       "      <td>Unmarried partner</td>\n",
       "      <td>...</td>\n",
       "      <td>never</td>\n",
       "      <td>NaN</td>\n",
       "      <td>4~8</td>\n",
       "      <td>1~3</td>\n",
       "      <td>1</td>\n",
       "      <td>0</td>\n",
       "      <td>0</td>\n",
       "      <td>0</td>\n",
       "      <td>1</td>\n",
       "      <td>1</td>\n",
       "    </tr>\n",
       "    <tr>\n",
       "      <th>1</th>\n",
       "      <td>No Urgent Place</td>\n",
       "      <td>Friend(s)</td>\n",
       "      <td>Sunny</td>\n",
       "      <td>80</td>\n",
       "      <td>10AM</td>\n",
       "      <td>Coffee House</td>\n",
       "      <td>2h</td>\n",
       "      <td>Female</td>\n",
       "      <td>21</td>\n",
       "      <td>Unmarried partner</td>\n",
       "      <td>...</td>\n",
       "      <td>never</td>\n",
       "      <td>NaN</td>\n",
       "      <td>4~8</td>\n",
       "      <td>1~3</td>\n",
       "      <td>1</td>\n",
       "      <td>0</td>\n",
       "      <td>0</td>\n",
       "      <td>0</td>\n",
       "      <td>1</td>\n",
       "      <td>0</td>\n",
       "    </tr>\n",
       "    <tr>\n",
       "      <th>2</th>\n",
       "      <td>No Urgent Place</td>\n",
       "      <td>Friend(s)</td>\n",
       "      <td>Sunny</td>\n",
       "      <td>80</td>\n",
       "      <td>10AM</td>\n",
       "      <td>Carry out &amp; Take away</td>\n",
       "      <td>2h</td>\n",
       "      <td>Female</td>\n",
       "      <td>21</td>\n",
       "      <td>Unmarried partner</td>\n",
       "      <td>...</td>\n",
       "      <td>never</td>\n",
       "      <td>NaN</td>\n",
       "      <td>4~8</td>\n",
       "      <td>1~3</td>\n",
       "      <td>1</td>\n",
       "      <td>1</td>\n",
       "      <td>0</td>\n",
       "      <td>0</td>\n",
       "      <td>1</td>\n",
       "      <td>1</td>\n",
       "    </tr>\n",
       "    <tr>\n",
       "      <th>3</th>\n",
       "      <td>No Urgent Place</td>\n",
       "      <td>Friend(s)</td>\n",
       "      <td>Sunny</td>\n",
       "      <td>80</td>\n",
       "      <td>2PM</td>\n",
       "      <td>Coffee House</td>\n",
       "      <td>2h</td>\n",
       "      <td>Female</td>\n",
       "      <td>21</td>\n",
       "      <td>Unmarried partner</td>\n",
       "      <td>...</td>\n",
       "      <td>never</td>\n",
       "      <td>NaN</td>\n",
       "      <td>4~8</td>\n",
       "      <td>1~3</td>\n",
       "      <td>1</td>\n",
       "      <td>1</td>\n",
       "      <td>0</td>\n",
       "      <td>0</td>\n",
       "      <td>1</td>\n",
       "      <td>0</td>\n",
       "    </tr>\n",
       "    <tr>\n",
       "      <th>4</th>\n",
       "      <td>No Urgent Place</td>\n",
       "      <td>Friend(s)</td>\n",
       "      <td>Sunny</td>\n",
       "      <td>80</td>\n",
       "      <td>2PM</td>\n",
       "      <td>Coffee House</td>\n",
       "      <td>1d</td>\n",
       "      <td>Female</td>\n",
       "      <td>21</td>\n",
       "      <td>Unmarried partner</td>\n",
       "      <td>...</td>\n",
       "      <td>never</td>\n",
       "      <td>NaN</td>\n",
       "      <td>4~8</td>\n",
       "      <td>1~3</td>\n",
       "      <td>1</td>\n",
       "      <td>1</td>\n",
       "      <td>0</td>\n",
       "      <td>0</td>\n",
       "      <td>1</td>\n",
       "      <td>0</td>\n",
       "    </tr>\n",
       "  </tbody>\n",
       "</table>\n",
       "<p>5 rows × 26 columns</p>\n",
       "</div>"
      ],
      "text/plain": [
       "       destination  passanger weather  temperature  time  \\\n",
       "0  No Urgent Place      Alone   Sunny           55   2PM   \n",
       "1  No Urgent Place  Friend(s)   Sunny           80  10AM   \n",
       "2  No Urgent Place  Friend(s)   Sunny           80  10AM   \n",
       "3  No Urgent Place  Friend(s)   Sunny           80   2PM   \n",
       "4  No Urgent Place  Friend(s)   Sunny           80   2PM   \n",
       "\n",
       "                  coupon expiration  gender age      maritalStatus  ...  \\\n",
       "0        Restaurant(<20)         1d  Female  21  Unmarried partner  ...   \n",
       "1           Coffee House         2h  Female  21  Unmarried partner  ...   \n",
       "2  Carry out & Take away         2h  Female  21  Unmarried partner  ...   \n",
       "3           Coffee House         2h  Female  21  Unmarried partner  ...   \n",
       "4           Coffee House         1d  Female  21  Unmarried partner  ...   \n",
       "\n",
       "   CoffeeHouse CarryAway RestaurantLessThan20 Restaurant20To50  \\\n",
       "0        never       NaN                  4~8              1~3   \n",
       "1        never       NaN                  4~8              1~3   \n",
       "2        never       NaN                  4~8              1~3   \n",
       "3        never       NaN                  4~8              1~3   \n",
       "4        never       NaN                  4~8              1~3   \n",
       "\n",
       "  toCoupon_GEQ5min toCoupon_GEQ15min toCoupon_GEQ25min direction_same  \\\n",
       "0                1                 0                 0              0   \n",
       "1                1                 0                 0              0   \n",
       "2                1                 1                 0              0   \n",
       "3                1                 1                 0              0   \n",
       "4                1                 1                 0              0   \n",
       "\n",
       "  direction_opp  Y  \n",
       "0             1  1  \n",
       "1             1  0  \n",
       "2             1  1  \n",
       "3             1  0  \n",
       "4             1  0  \n",
       "\n",
       "[5 rows x 26 columns]"
      ]
     },
     "execution_count": 5,
     "metadata": {},
     "output_type": "execute_result"
    }
   ],
   "source": [
    "data.head()"
   ]
  },
  {
   "cell_type": "markdown",
   "metadata": {
    "id": "GcDs78ZH_qRH"
   },
   "source": [
    "2. Investigate the dataset for missing or problematic data."
   ]
  },
  {
   "cell_type": "code",
   "execution_count": 2,
   "metadata": {
    "id": "6CwL6oWj_qRH"
   },
   "outputs": [
    {
     "name": "stdout",
     "output_type": "stream",
     "text": [
      "=== Missing Values Report ===\n",
      "                      Missing Count  Missing %\n",
      "car                           12576      99.15\n",
      "Bar                             107       0.84\n",
      "CoffeeHouse                     217       1.71\n",
      "CarryAway                       151       1.19\n",
      "RestaurantLessThan20            130       1.02\n",
      "Restaurant20To50                189       1.49\n",
      "\n",
      "=== Missing Values Heatmap ===\n"
     ]
    },
    {
     "data": {
      "image/png": "[encoded data removed]",
      "text/plain": [
       "<Figure size 1200x600 with 1 Axes>"
      ]
     },
     "metadata": {},
     "output_type": "display_data"
    },
    {
     "name": "stdout",
     "output_type": "stream",
     "text": [
      "\n",
      "=== Duplicate Rows ===\n",
      "Number of duplicate rows: 74\n",
      "\n",
      "=== Unique Values in Key Categorical Columns ===\n",
      "\n",
      "Column 'passanger' unique values (4):\n",
      "['Alone' 'Friend(s)' 'Kid(s)' 'Partner']\n",
      "\n",
      "Column 'coupon' unique values (5):\n",
      "['Restaurant(<20)' 'Coffee House' 'Carry out & Take away' 'Bar'\n",
      " 'Restaurant(20-50)']\n",
      "\n",
      "Column 'weather' unique values (3):\n",
      "['Sunny' 'Rainy' 'Snowy']\n",
      "\n",
      "Column 'gender' unique values (2):\n",
      "['Female' 'Male']\n",
      "\n",
      "Column 'maritalStatus' unique values (5):\n",
      "['Unmarried partner' 'Single' 'Married partner' 'Divorced' 'Widowed']\n",
      "\n",
      "Column 'destination' unique values (3):\n",
      "['No Urgent Place' 'Home' 'Work']\n",
      "\n",
      "Column 'time' unique values (5):\n",
      "['2PM' '10AM' '6PM' '7AM' '10PM']\n",
      "\n",
      "=== Value Counts for Ordinal Columns ===\n",
      "\n",
      "Value counts in 'CoffeeHouse':\n",
      "CoffeeHouse\n",
      "less1    3385\n",
      "1~3      3225\n",
      "never    2962\n",
      "4~8      1784\n",
      "gt8      1111\n",
      "NaN       217\n",
      "Name: count, dtype: int64\n",
      "\n",
      "Value counts in 'CarryAway':\n",
      "CarryAway\n",
      "1~3      4672\n",
      "4~8      4258\n",
      "less1    1856\n",
      "gt8      1594\n",
      "never     153\n",
      "NaN       151\n",
      "Name: count, dtype: int64\n",
      "\n",
      "Value counts in 'RestaurantLessThan20':\n",
      "RestaurantLessThan20\n",
      "1~3      5376\n",
      "4~8      3580\n",
      "less1    2093\n",
      "gt8      1285\n",
      "never     220\n",
      "NaN       130\n",
      "Name: count, dtype: int64\n",
      "\n",
      "Value counts in 'Restaurant20To50':\n",
      "Restaurant20To50\n",
      "less1    6077\n",
      "1~3      3290\n",
      "never    2136\n",
      "4~8       728\n",
      "gt8       264\n",
      "NaN       189\n",
      "Name: count, dtype: int64\n",
      "\n",
      "=== Data Types ===\n",
      "destination             object\n",
      "passanger               object\n",
      "weather                 object\n",
      "temperature              int64\n",
      "time                    object\n",
      "coupon                  object\n",
      "expiration              object\n",
      "gender                  object\n",
      "age                     object\n",
      "maritalStatus           object\n",
      "has_children             int64\n",
      "education               object\n",
      "occupation              object\n",
      "income                  object\n",
      "car                     object\n",
      "Bar                     object\n",
      "CoffeeHouse             object\n",
      "CarryAway               object\n",
      "RestaurantLessThan20    object\n",
      "Restaurant20To50        object\n",
      "toCoupon_GEQ5min         int64\n",
      "toCoupon_GEQ15min        int64\n",
      "toCoupon_GEQ25min        int64\n",
      "direction_same           int64\n",
      "direction_opp            int64\n",
      "Y                        int64\n",
      "dtype: object\n"
     ]
    }
   ],
   "source": [
    "import pandas as pd\n",
    "import seaborn as sns\n",
    "import matplotlib.pyplot as plt\n",
    "\n",
    "def investigate_data_issues(df):\n",
    "    \"\"\"\n",
    "    Investigates missing and problematic data in the given DataFrame.\n",
    "    Prints summary reports and visualizations for:\n",
    "    - Missing values count and percentage\n",
    "    - Duplicate rows count\n",
    "    - Unique values in key categorical columns (for typos/inconsistencies)\n",
    "    - Value counts for ordinal columns with text ranges\n",
    "    - Data types of each column\n",
    "\n",
    "    Parameters:\n",
    "        df (pd.DataFrame): The input DataFrame to investigate\n",
    "\n",
    "    Returns:\n",
    "        None\n",
    "    \"\"\"\n",
    "\n",
    "    print(\"=== Missing Values Report ===\")\n",
    "    missing = df.isnull().sum()\n",
    "    missing = missing[missing > 0]\n",
    "    missing_percent = (missing / len(df)) * 100\n",
    "    missing_report = pd.DataFrame({'Missing Count': missing, 'Missing %': missing_percent.round(2)})\n",
    "    if missing_report.empty:\n",
    "        print(\"No missing values found.\")\n",
    "    else:\n",
    "        print(missing_report)\n",
    "\n",
    "    print(\"\\n=== Missing Values Heatmap ===\")\n",
    "    plt.figure(figsize=(12, 6))\n",
    "    sns.heatmap(df.isnull(), cbar=False, cmap='viridis')\n",
    "    plt.title(\"Missing Data Heatmap\")\n",
    "    plt.show()\n",
    "\n",
    "    print(\"\\n=== Duplicate Rows ===\")\n",
    "    duplicate_count = df.duplicated().sum()\n",
    "    print(f\"Number of duplicate rows: {duplicate_count}\")\n",
    "\n",
    "    print(\"\\n=== Unique Values in Key Categorical Columns ===\")\n",
    "    columns_to_check = ['passanger', 'coupon', 'weather', 'gender', 'maritalStatus', 'destination', 'time']\n",
    "    for col in columns_to_check:\n",
    "        if col in df.columns:\n",
    "            unique_vals = df[col].unique()\n",
    "            print(f\"\\nColumn '{col}' unique values ({len(unique_vals)}):\")\n",
    "            print(unique_vals)\n",
    "        else:\n",
    "            print(f\"\\nColumn '{col}' not found in dataframe.\")\n",
    "\n",
    "    print(\"\\n=== Value Counts for Ordinal Columns ===\")\n",
    "    ordinal_cols = ['CoffeeHouse', 'CarryAway', 'RestaurantLessThan20', 'Restaurant20To50']\n",
    "    for col in ordinal_cols:\n",
    "        if col in df.columns:\n",
    "            print(f\"\\nValue counts in '{col}':\")\n",
    "            print(df[col].value_counts(dropna=False))\n",
    "        else:\n",
    "            print(f\"\\nColumn '{col}' not found in dataframe.\")\n",
    "\n",
    "    print(\"\\n=== Data Types ===\")\n",
    "    print(df.dtypes)\n",
    "\n",
    "# Example: After loading your data\n",
    "data = pd.read_csv('data/coupons.csv')\n",
    "investigate_data_issues(data)"
   ]
  },
  {
   "cell_type": "markdown",
   "metadata": {
    "id": "bSdVSpYB_qRH"
   },
   "source": [
    "3. Decide what to do about your missing data -- drop, replace, other..."
   ]
  },
  {
   "cell_type": "code",
   "execution_count": 5,
   "metadata": {
    "id": "tyvoAC5F_qRI"
   },
   "outputs": [
    {
     "name": "stdout",
     "output_type": "stream",
     "text": [
      "Dropped 'car' column due to high missing values.\n",
      "Mapped and imputed missing values in 'Bar'.\n",
      "Mapped and imputed missing values in 'CoffeeHouse'.\n",
      "Mapped and imputed missing values in 'CarryAway'.\n",
      "Mapped and imputed missing values in 'RestaurantLessThan20'.\n",
      "Mapped and imputed missing values in 'Restaurant20To50'.\n"
     ]
    }
   ],
   "source": [
    "def clean_coupon_data(df):\n",
    "    \"\"\"\n",
    "    Cleans the coupon dataset by:\n",
    "    - Dropping 'car' column (too many missing values)\n",
    "    - Mapping ordinal string columns to numeric values\n",
    "    - Imputing missing values in those columns with 0\n",
    "\n",
    "    Parameters:\n",
    "        df (pd.DataFrame): Input DataFrame\n",
    "\n",
    "    Returns:\n",
    "        pd.DataFrame: Cleaned DataFrame\n",
    "    \"\"\"\n",
    "\n",
    "    # Drop 'car' column if it exists\n",
    "    if 'car' in df.columns:\n",
    "        df = df.drop(columns=['car'])\n",
    "        print(\"Dropped 'car' column due to high missing values.\")\n",
    "\n",
    "    # Define mapping for ordinal columns\n",
    "    ordinal_map = {\n",
    "        'never': 0,\n",
    "        'less1': 0.5,\n",
    "        '1~3': 2,\n",
    "        '4~8': 6,\n",
    "        'gt8': 9\n",
    "    }\n",
    "\n",
    "    ordinal_cols = ['Bar', 'CoffeeHouse', 'CarryAway', 'RestaurantLessThan20', 'Restaurant20To50']\n",
    "\n",
    "    for col in ordinal_cols:\n",
    "        if col in df.columns:\n",
    "            df[col] = df[col].map(ordinal_map)\n",
    "            df[col] = df[col].fillna(0)\n",
    "            print(f\"Mapped and imputed missing values in '{col}'.\")\n",
    "        else:\n",
    "            print(f\"Column '{col}' not found in the DataFrame.\")\n",
    "\n",
    "    return df\n",
    "\n",
    "# Example usage:\n",
    "data = pd.read_csv('data/coupons.csv')\n",
    "data = clean_coupon_data(data)\n"
   ]
  },
  {
   "cell_type": "markdown",
   "metadata": {
    "id": "YE6oJbXd_qRI"
   },
   "source": [
    "4. What proportion of the total observations chose to accept the coupon?\n",
    "\n"
   ]
  },
  {
   "cell_type": "code",
   "execution_count": 6,
   "metadata": {
    "id": "86GGqBTv_qRI"
   },
   "outputs": [
    {
     "name": "stdout",
     "output_type": "stream",
     "text": [
      "Proportion of customers who accepted the coupon: 56.84%\n"
     ]
    }
   ],
   "source": [
    "def coupon_acceptance_rate(df):\n",
    "    \"\"\"\n",
    "    Calculates and prints the proportion of customers who accepted the coupon.\n",
    "\n",
    "    Parameters:\n",
    "        df (pd.DataFrame): Input DataFrame with 'Y' column indicating acceptance (1 = accepted, 0 = rejected)\n",
    "\n",
    "    Returns:\n",
    "        float: Proportion of accepted coupons\n",
    "    \"\"\"\n",
    "    acceptance_rate = df['Y'].mean()\n",
    "    print(f\"Proportion of customers who accepted the coupon: {acceptance_rate:.2%}\")\n",
    "    return acceptance_rate\n",
    "\n",
    "acceptance = coupon_acceptance_rate(data)"
   ]
  },
  {
   "cell_type": "markdown",
   "metadata": {
    "id": "vflz0DoE_qRI"
   },
   "source": [
    "5. Use a bar plot to visualize the `coupon` column."
   ]
  },
  {
   "cell_type": "code",
   "execution_count": 7,
   "metadata": {
    "id": "dHFh3E45_qRI"
   },
   "outputs": [
    {
     "data": {
      "image/png": "[encoded data removed]",
      "text/plain": [
       "<Figure size 800x500 with 1 Axes>"
      ]
     },
     "metadata": {},
     "output_type": "display_data"
    }
   ],
   "source": [
    "import matplotlib.pyplot as plt\n",
    "import seaborn as sns\n",
    "\n",
    "def plot_coupon_distribution(df):\n",
    "    \"\"\"\n",
    "    Creates a bar plot to visualize the count of each coupon type in the 'coupon' column.\n",
    "\n",
    "    Parameters:\n",
    "        df (pd.DataFrame): Input DataFrame with a 'coupon' column.\n",
    "\n",
    "    Returns:\n",
    "        None\n",
    "    \"\"\"\n",
    "    plt.figure(figsize=(8,5))\n",
    "    sns.countplot(data=df, x='coupon', order=df['coupon'].value_counts().index)\n",
    "    plt.title('Coupon Type Distribution')\n",
    "    plt.xlabel('Coupon Type')\n",
    "    plt.ylabel('Count')\n",
    "    plt.xticks(rotation=45)\n",
    "    plt.show()\n",
    "\n",
    "plot_coupon_distribution(data)"
   ]
  },
  {
   "cell_type": "markdown",
   "metadata": {
    "id": "Qw4lCyx2_qRI"
   },
   "source": [
    "6. Use a histogram to visualize the temperature column."
   ]
  },
  {
   "cell_type": "code",
   "execution_count": 8,
   "metadata": {
    "id": "Yg9Anv71_qRI"
   },
   "outputs": [
    {
     "name": "stderr",
     "output_type": "stream",
     "text": [
      "/opt/anaconda3/lib/python3.11/site-packages/seaborn/_oldcore.py:1119: FutureWarning: use_inf_as_na option is deprecated and will be removed in a future version. Convert inf values to NaN before operating instead.\n",
      "  with pd.option_context('mode.use_inf_as_na', True):\n"
     ]
    },
    {
     "data": {
      "image/png": "[encoded data removed]",
      "text/plain": [
       "<Figure size 800x500 with 1 Axes>"
      ]
     },
     "metadata": {},
     "output_type": "display_data"
    }
   ],
   "source": [
    "import matplotlib.pyplot as plt\n",
    "import seaborn as sns\n",
    "\n",
    "def plot_temperature_histogram(df):\n",
    "    \"\"\"\n",
    "    Plots a histogram to visualize the distribution of the 'temperature' column.\n",
    "\n",
    "    Parameters:\n",
    "        df (pd.DataFrame): Input DataFrame with a 'temperature' column.\n",
    "\n",
    "    Returns:\n",
    "        None\n",
    "    \"\"\"\n",
    "    plt.figure(figsize=(8,5))\n",
    "    sns.histplot(df['temperature'], bins=20, kde=True)\n",
    "    plt.title('Temperature Distribution')\n",
    "    plt.xlabel('Temperature (°F)')\n",
    "    plt.ylabel('Frequency')\n",
    "    plt.show()\n",
    "\n",
    "plot_temperature_histogram(data)"
   ]
  },
  {
   "cell_type": "code",
   "execution_count": null,
   "metadata": {
    "id": "zLtOaJQk_qRI"
   },
   "outputs": [],
   "source": []
  },
  {
   "cell_type": "code",
   "execution_count": null,
   "metadata": {
    "id": "7GBHZKBp_qRJ"
   },
   "outputs": [],
   "source": []
  },
  {
   "cell_type": "code",
   "execution_count": null,
   "metadata": {
    "id": "Y5nBUA-j_qRJ"
   },
   "outputs": [],
   "source": []
  },
  {
   "cell_type": "code",
   "execution_count": null,
   "metadata": {
    "id": "ShcUC-Vm_qRJ"
   },
   "outputs": [],
   "source": []
  },
  {
   "cell_type": "markdown",
   "metadata": {
    "id": "FupfgeJk_qRJ"
   },
   "source": [
    "**Investigating the Bar Coupons**\n",
    "\n",
    "Now, we will lead you through an exploration of just the bar related coupons.  \n",
    "\n",
    "1. Create a new `DataFrame` that contains just the bar coupons.\n"
   ]
  },
  {
   "cell_type": "code",
   "execution_count": 9,
   "metadata": {
    "id": "tMBlWuGq_qRJ"
   },
   "outputs": [
    {
     "name": "stdout",
     "output_type": "stream",
     "text": [
      "Filtered DataFrame contains 2017 rows with Bar coupons.\n"
     ]
    }
   ],
   "source": [
    "def filter_bar_coupons(df):\n",
    "    \"\"\"\n",
    "    Creates a new DataFrame containing only rows with 'Bar' coupons.\n",
    "\n",
    "    Parameters:\n",
    "        df (pd.DataFrame): Input DataFrame with a 'coupon' column.\n",
    "\n",
    "    Returns:\n",
    "        pd.DataFrame: Filtered DataFrame with only bar coupons.\n",
    "    \"\"\"\n",
    "    bar_coupons_df = df[df['coupon'] == 'Bar'].copy()\n",
    "    print(f\"Filtered DataFrame contains {len(bar_coupons_df)} rows with Bar coupons.\")\n",
    "    return bar_coupons_df\n",
    "\n",
    "bar_data = filter_bar_coupons(data)"
   ]
  },
  {
   "cell_type": "markdown",
   "metadata": {
    "id": "8ue6uCqf_qRJ"
   },
   "source": [
    "2. What proportion of bar coupons were accepted?\n"
   ]
  },
  {
   "cell_type": "code",
   "execution_count": 11,
   "metadata": {
    "id": "hSdte8Mi_qRK"
   },
   "outputs": [
    {
     "name": "stdout",
     "output_type": "stream",
     "text": [
      "Proportion of Bar coupons accepted: 41.00%\n"
     ]
    }
   ],
   "source": [
    "def bar_coupon_acceptance_rate(df):\n",
    "    \"\"\"\n",
    "    Calculates and prints the proportion of accepted Bar coupons in the given DataFrame.\n",
    "\n",
    "    Parameters:\n",
    "        df (pd.DataFrame): DataFrame filtered for Bar coupons with 'Y' column indicating acceptance (1 = accepted, 0 = rejected)\n",
    "\n",
    "    Returns:\n",
    "        float: Proportion of accepted Bar coupons\n",
    "    \"\"\"\n",
    "    acceptance_rate = df['Y'].mean()\n",
    "    print(f\"Proportion of Bar coupons accepted: {acceptance_rate:.2%}\")\n",
    "    return acceptance_rate\n",
    "\n",
    "bar_acceptance = bar_coupon_acceptance_rate(bar_data)"
   ]
  },
  {
   "cell_type": "markdown",
   "metadata": {
    "id": "85nA_iEi_qRK"
   },
   "source": [
    "3. Compare the acceptance rate between those who went to a bar 3 or fewer times a month to those who went more.\n"
   ]
  },
  {
   "cell_type": "code",
   "execution_count": 12,
   "metadata": {
    "id": "LBOrN-XM_qRK"
   },
   "outputs": [
    {
     "name": "stdout",
     "output_type": "stream",
     "text": [
      "Acceptance rate (3 or fewer visits/month): 37.07%\n",
      "Acceptance rate (more than 3 visits/month): 76.88%\n"
     ]
    },
    {
     "data": {
      "text/plain": [
       "{'3_or_fewer': 0.37073707370737075, 'more_than_3': 0.7688442211055276}"
      ]
     },
     "execution_count": 12,
     "metadata": {},
     "output_type": "execute_result"
    }
   ],
   "source": [
    "def compare_bar_visits_acceptance(df):\n",
    "    \"\"\"\n",
    "    Compares acceptance rates between customers who went to a bar 3 or fewer times per month \n",
    "    vs those who went more than 3 times.\n",
    "\n",
    "    Parameters:\n",
    "        df (pd.DataFrame): DataFrame filtered for Bar coupons with numeric 'Bar' column and 'Y' acceptance column.\n",
    "\n",
    "    Returns:\n",
    "        dict: Acceptance rates for both groups\n",
    "    \"\"\"\n",
    "    # Group 1: 3 or fewer visits\n",
    "    group_3_or_less = df[df['Bar'] <= 3]\n",
    "    acceptance_3_or_less = group_3_or_less['Y'].mean()\n",
    "\n",
    "    # Group 2: More than 3 visits\n",
    "    group_more_than_3 = df[df['Bar'] > 3]\n",
    "    acceptance_more_than_3 = group_more_than_3['Y'].mean()\n",
    "\n",
    "    print(f\"Acceptance rate (3 or fewer visits/month): {acceptance_3_or_less:.2%}\")\n",
    "    print(f\"Acceptance rate (more than 3 visits/month): {acceptance_more_than_3:.2%}\")\n",
    "\n",
    "    return {\n",
    "        '3_or_fewer': acceptance_3_or_less,\n",
    "        'more_than_3': acceptance_more_than_3\n",
    "    }\n",
    "compare_bar_visits_acceptance(bar_data)"
   ]
  },
  {
   "cell_type": "markdown",
   "metadata": {
    "id": "RBgcQwH4_qRK"
   },
   "source": [
    "4. Compare the acceptance rate between drivers who go to a bar more than once a month and are over the age of 25 to the all others.  Is there a difference?\n"
   ]
  },
  {
   "cell_type": "code",
   "execution_count": 13,
   "metadata": {
    "id": "bf28bbeX_qRK"
   },
   "outputs": [
    {
     "name": "stdout",
     "output_type": "stream",
     "text": [
      "Acceptance rate (bar visits > 1/month AND age > 25): 69.97%\n",
      "Acceptance rate (all others): 34.86%\n"
     ]
    },
    {
     "data": {
      "text/plain": [
       "{'bar_visits_gt_1_and_age_gt_25': 0.6997167138810199,\n",
       " 'others': 0.3485576923076923}"
      ]
     },
     "execution_count": 13,
     "metadata": {},
     "output_type": "execute_result"
    }
   ],
   "source": [
    "def compare_bar_visits_age_acceptance(df):\n",
    "    \"\"\"\n",
    "    Compare acceptance rates between drivers who go to a bar more than once a month and are over 25\n",
    "    vs all others.\n",
    "\n",
    "    Parameters:\n",
    "        df (pd.DataFrame): DataFrame filtered for Bar coupons with 'Bar', 'age', and 'Y' columns.\n",
    "\n",
    "    Returns:\n",
    "        dict: Acceptance rates for both groups\n",
    "    \"\"\"\n",
    "\n",
    "    # Convert age to numeric if not already, coerce errors to NaN\n",
    "    df['age'] = pd.to_numeric(df['age'], errors='coerce')\n",
    "\n",
    "    # Define group 1 condition\n",
    "    group1 = df[(df['Bar'] > 1) & (df['age'] > 25)]\n",
    "    group2 = df.drop(group1.index)\n",
    "\n",
    "    acceptance_group1 = group1['Y'].mean()\n",
    "    acceptance_group2 = group2['Y'].mean()\n",
    "\n",
    "    print(f\"Acceptance rate (bar visits > 1/month AND age > 25): {acceptance_group1:.2%}\")\n",
    "    print(f\"Acceptance rate (all others): {acceptance_group2:.2%}\")\n",
    "\n",
    "    return {\n",
    "        'bar_visits_gt_1_and_age_gt_25': acceptance_group1,\n",
    "        'others': acceptance_group2\n",
    "    }\n",
    "compare_bar_visits_age_acceptance(bar_data)"
   ]
  },
  {
   "cell_type": "markdown",
   "metadata": {
    "id": "S4RKT4PJ_qRK"
   },
   "source": [
    "5. Use the same process to compare the acceptance rate between drivers who go to bars more than once a month and had passengers that were not a kid and had occupations other than farming, fishing, or forestry.\n"
   ]
  },
  {
   "cell_type": "code",
   "execution_count": 14,
   "metadata": {
    "id": "sENaI2Tg_qRK"
   },
   "outputs": [
    {
     "name": "stdout",
     "output_type": "stream",
     "text": [
      "Acceptance rate (bar visits >1/month, passengers NOT kids, occupation NOT farming/fishing/forestry): 71.32%\n",
      "Acceptance rate (all others): 29.60%\n"
     ]
    },
    {
     "data": {
      "text/plain": [
       "{'group1': 0.7132486388384754, 'group2': 0.296043656207367}"
      ]
     },
     "execution_count": 14,
     "metadata": {},
     "output_type": "execute_result"
    }
   ],
   "source": [
    "def compare_bar_visits_passenger_occupation_acceptance(df):\n",
    "    \"\"\"\n",
    "    Compares acceptance rates between:\n",
    "    - Drivers who visit bars >1/month, passengers NOT 'Kid(s)', \n",
    "      and occupation NOT in ['Farming', 'Fishing', 'Forestry']\n",
    "    vs all others.\n",
    "\n",
    "    Parameters:\n",
    "        df (pd.DataFrame): DataFrame with 'Bar', 'passanger', 'occupation', and 'Y' columns.\n",
    "\n",
    "    Returns:\n",
    "        dict: Acceptance rates for both groups\n",
    "    \"\"\"\n",
    "    # Normalize passenger column name if needed\n",
    "    passenger_col = 'passanger' if 'passanger' in df.columns else 'passenger'\n",
    "\n",
    "    # Standardize passenger entries and occupation to lowercase to avoid case issues\n",
    "    df[passenger_col] = df[passenger_col].str.strip().str.lower()\n",
    "    df['occupation'] = df['occupation'].str.strip().str.lower()\n",
    "\n",
    "    excluded_occupations = ['farming', 'fishing', 'forestry']\n",
    "\n",
    "    group1 = df[\n",
    "        (df['Bar'] > 1) &\n",
    "        (df[passenger_col] != 'kid(s)') &\n",
    "        (~df['occupation'].isin(excluded_occupations))\n",
    "    ]\n",
    "\n",
    "    group2 = df.drop(group1.index)\n",
    "\n",
    "    acceptance_group1 = group1['Y'].mean()\n",
    "    acceptance_group2 = group2['Y'].mean()\n",
    "\n",
    "    print(f\"Acceptance rate (bar visits >1/month, passengers NOT kids, occupation NOT farming/fishing/forestry): {acceptance_group1:.2%}\")\n",
    "    print(f\"Acceptance rate (all others): {acceptance_group2:.2%}\")\n",
    "\n",
    "    return {\n",
    "        'group1': acceptance_group1,\n",
    "        'group2': acceptance_group2\n",
    "    }\n",
    "compare_bar_visits_passenger_occupation_acceptance(bar_data)"
   ]
  },
  {
   "cell_type": "markdown",
   "metadata": {
    "id": "n2LIUTil_qRK"
   },
   "source": [
    "6. Compare the acceptance rates between those drivers who:\n",
    "\n",
    "- go to bars more than once a month, had passengers that were not a kid, and were not widowed *OR*\n",
    "- go to bars more than once a month and are under the age of 30 *OR*\n",
    "- go to cheap restaurants more than 4 times a month and income is less than 50K.\n",
    "\n"
   ]
  },
  {
   "cell_type": "code",
   "execution_count": 17,
   "metadata": {
    "id": "aK_wEzx7_qRK"
   },
   "outputs": [
    {
     "name": "stdout",
     "output_type": "stream",
     "text": [
      "Acceptance rate (Group 1): 62.31%\n",
      "Acceptance rate (Group 2): 62.85%\n",
      "Acceptance rate (Group 3): 60.07%\n",
      "Acceptance rate (Others): 54.31%\n"
     ]
    },
    {
     "data": {
      "text/plain": [
       "{'Group 1': 0.6231060606060606,\n",
       " 'Group 2': 0.6284549161758043,\n",
       " 'Group 3': 0.6007020623080298,\n",
       " 'Others': 0.5431492299522039}"
      ]
     },
     "execution_count": 17,
     "metadata": {},
     "output_type": "execute_result"
    }
   ],
   "source": [
    "def compare_complex_groups_acceptance(df):\n",
    "    \"\"\"\n",
    "    Compares acceptance rates between three groups and the rest:\n",
    "    \n",
    "    Group 1: Bar visits > 1, passengers not 'Kid(s)', maritalStatus not 'Widowed'  \n",
    "    Group 2: Bar visits > 1, age < 30  \n",
    "    Group 3: RestaurantLessThan20 visits > 4, income < 50K  \n",
    "    Group 4: All others\n",
    "\n",
    "    Parameters:\n",
    "        df (pd.DataFrame): DataFrame with necessary columns.\n",
    "\n",
    "    Returns:\n",
    "        dict: Acceptance rates for all four groups.\n",
    "    \"\"\"\n",
    "    # Normalize columns, lower-case & strip whitespace for string columns\n",
    "    passenger_col = 'passanger' if 'passanger' in df.columns else 'passenger'\n",
    "    \n",
    "    df[passenger_col] = df[passenger_col].str.strip().str.lower()\n",
    "    df['maritalStatus'] = df['maritalStatus'].str.strip().str.lower()\n",
    "    df['income'] = df['income'].str.strip().str.lower()\n",
    "\n",
    "    # Convert age to numeric\n",
    "    df['age'] = pd.to_numeric(df['age'], errors='coerce')\n",
    "\n",
    "    # Map income to numeric threshold (assuming income is categorical like 'Less than $12500', '$12500 - $24999', etc.)\n",
    "    # Let's interpret incomes less than $50K roughly as categories that include 'less than $50000'\n",
    "    # If income is numeric, you can convert differently\n",
    "    def income_under_50k(val):\n",
    "        if pd.isna(val):\n",
    "            return False\n",
    "        val = val.replace(',', '').replace('$', '')\n",
    "        # A simple check: if the string contains 'less' or the numeric part is less than 50000\n",
    "        if 'less' in val:\n",
    "            return True\n",
    "        try:\n",
    "            # Extract first number from string\n",
    "            num = int(''.join(filter(str.isdigit, val.split()[0])))\n",
    "            return num < 50000\n",
    "        except:\n",
    "            return False\n",
    "\n",
    "    df['income_under_50k'] = df['income'].apply(income_under_50k)\n",
    "\n",
    "    # Group 1\n",
    "    group1 = df[\n",
    "        (df['Bar'] > 1) &\n",
    "        (df[passenger_col] != 'kid(s)') &\n",
    "        (df['maritalStatus'] != 'widowed')\n",
    "    ]\n",
    "\n",
    "    # Group 2\n",
    "    group2 = df[\n",
    "        (df['Bar'] > 1) &\n",
    "        (df['age'] < 30)\n",
    "    ]\n",
    "\n",
    "    # Group 3\n",
    "    group3 = df[\n",
    "        (df['RestaurantLessThan20'] > 4) &\n",
    "        (df['income_under_50k'])\n",
    "    ]\n",
    "\n",
    "    # All others\n",
    "    combined_indices = set(group1.index) | set(group2.index) | set(group3.index)\n",
    "    group4 = df.loc[~df.index.isin(combined_indices)]\n",
    "\n",
    "    rates = {\n",
    "        'Group 1': group1['Y'].mean(),\n",
    "        'Group 2': group2['Y'].mean(),\n",
    "        'Group 3': group3['Y'].mean(),\n",
    "        'Others': group4['Y'].mean()\n",
    "    }\n",
    "\n",
    "    for group, rate in rates.items():\n",
    "        print(f\"Acceptance rate ({group}): {rate:.2%}\")\n",
    "\n",
    "    return rates\n",
    "compare_complex_groups_acceptance(data)"
   ]
  },
  {
   "cell_type": "markdown",
   "metadata": {
    "id": "v3fL3QkO_qRK"
   },
   "source": [
    "Hypothesis on Drivers Who Accepted Bar Coupons\n",
    "Based on preliminary data exploration and comparisons, we hypothesize that:\n",
    "\n",
    "Drivers who accept bar coupons are more likely to be frequent bar visitors (more than once per month), indicating a habitual interest in bars.\n",
    "\n",
    "Younger drivers, particularly those under the age of 30, show higher acceptance rates, possibly reflecting greater social engagement or willingness to try promotions.\n",
    "\n",
    "Drivers accompanied by passengers other than children tend to accept bar coupons more, suggesting a social context favorable to visiting bars.\n",
    "\n",
    "Marital status influences acceptance, with drivers who are not widowed more likely to redeem bar coupons.\n",
    "\n",
    "Conversely, drivers with lower income who frequently dine at inexpensive restaurants are less likely to accept bar coupons, possibly prioritizing food-related offers over bar promotions.\n",
    "\n",
    "This hypothesis suggests that demographic factors, social context, and lifestyle habits collectively influence the likelihood of accepting bar coupons"
   ]
  },
  {
   "cell_type": "code",
   "execution_count": null,
   "metadata": {
    "id": "Y48naDFh_qRL"
   },
   "outputs": [],
   "source": []
  },
  {
   "cell_type": "markdown",
   "metadata": {
    "id": "r4Hu1zOb_qRL"
   },
   "source": [
    "### Independent Investigation\n",
    "\n",
    "Using the bar coupon example as motivation, you are to explore one of the other coupon groups and try to determine the characteristics of passengers who accept the coupons.  "
   ]
  },
  {
   "cell_type": "code",
   "execution_count": 18,
   "metadata": {
    "id": "0c71cQhu_qRL"
   },
   "outputs": [
    {
     "name": "stdout",
     "output_type": "stream",
     "text": [
      "Total Coffee House coupon rows: 3996\n",
      "Overall Coffee House coupon acceptance rate: 49.92%\n",
      "\n",
      "Acceptance rates by passenger type:\n",
      "passanger\n",
      "friend(s)    0.596906\n",
      "partner      0.570492\n",
      "kid(s)       0.483092\n",
      "alone        0.437943\n",
      "Name: Y, dtype: float64\n"
     ]
    },
    {
     "data": {
      "image/png": "[encoded data removed]",
      "text/plain": [
       "<Figure size 800x500 with 1 Axes>"
      ]
     },
     "metadata": {},
     "output_type": "display_data"
    }
   ],
   "source": [
    "import matplotlib.pyplot as plt\n",
    "import seaborn as sns\n",
    "\n",
    "def investigate_coffeehouse_passengers(df):\n",
    "    \"\"\"\n",
    "    Investigates acceptance characteristics for Coffee House coupons based on passenger type.\n",
    "\n",
    "    Parameters:\n",
    "        df (pd.DataFrame): Full dataset with 'coupon', 'passanger', and 'Y' columns.\n",
    "\n",
    "    Returns:\n",
    "        None\n",
    "    \"\"\"\n",
    "    # Filter for Coffee House coupons\n",
    "    coffee_df = df[df['coupon'] == 'Coffee House'].copy()\n",
    "    print(f\"Total Coffee House coupon rows: {len(coffee_df)}\")\n",
    "    overall_acceptance = coffee_df['Y'].mean()\n",
    "    print(f\"Overall Coffee House coupon acceptance rate: {overall_acceptance:.2%}\\n\")\n",
    "\n",
    "    # Group by passenger type and calculate acceptance rate\n",
    "    acceptance_by_passenger = coffee_df.groupby('passanger')['Y'].mean().sort_values(ascending=False)\n",
    "    print(\"Acceptance rates by passenger type:\")\n",
    "    print(acceptance_by_passenger)\n",
    "\n",
    "    # Plot acceptance rate by passenger type\n",
    "    plt.figure(figsize=(8,5))\n",
    "    sns.barplot(x=acceptance_by_passenger.index, y=acceptance_by_passenger.values)\n",
    "    plt.title('Coffee House Coupon Acceptance Rate by Passenger Type')\n",
    "    plt.xlabel('Passenger Type')\n",
    "    plt.ylabel('Acceptance Rate')\n",
    "    plt.ylim(0,1)\n",
    "    plt.show()\n",
    "\n",
    "investigate_coffeehouse_passengers(data)\n"
   ]
  },
  {
   "cell_type": "code",
   "execution_count": null,
   "metadata": {
    "id": "QEsBkvIN_qRL"
   },
   "outputs": [],
   "source": []
  },
  {
   "cell_type": "code",
   "execution_count": null,
   "metadata": {
    "id": "fTC2WGE3_qRL"
   },
   "outputs": [],
   "source": []
  },
  {
   "cell_type": "code",
   "execution_count": null,
   "metadata": {
    "id": "RrqUWn7d_qRL"
   },
   "outputs": [],
   "source": []
  },
  {
   "cell_type": "code",
   "execution_count": null,
   "metadata": {
    "id": "_oykf8YP_qRL"
   },
   "outputs": [],
   "source": []
  }
 ],
 "metadata": {
  "colab": {
   "provenance": []
  },
  "kernelspec": {
   "display_name": "Python 3 (ipykernel)",
   "language": "python",
   "name": "python3"
  },
  "language_info": {
   "codemirror_mode": {
    "name": "ipython",
    "version": 3
   },
   "file_extension": ".py",
   "mimetype": "text/x-python",
   "name": "python",
   "nbconvert_exporter": "python",
   "pygments_lexer": "ipython3",
   "version": "3.11.7"
  }
 },
 "nbformat": 4,
 "nbformat_minor": 4
}
